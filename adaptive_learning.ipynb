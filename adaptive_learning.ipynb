{
 "cells": [
  {
   "cell_type": "markdown",
   "id": "fe493582",
   "metadata": {},
   "source": [
    "<h3> Adaline Learning or Adaptive Learning</h3>\n",
    "\n",
    "<li>Adaline learning is also known for feedback learning</li>"
   ]
  },
  {
   "cell_type": "code",
   "execution_count": null,
   "id": "c166b249",
   "metadata": {
    "vscode": {
     "languageId": "plaintext"
    }
   },
   "outputs": [],
   "source": []
  },
  {
   "cell_type": "markdown",
   "id": "861e113b",
   "metadata": {},
   "source": []
  }
 ],
 "metadata": {
  "language_info": {
   "name": "python"
  }
 },
 "nbformat": 4,
 "nbformat_minor": 5
}
